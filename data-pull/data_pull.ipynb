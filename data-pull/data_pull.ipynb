{
 "cells": [
  {
   "cell_type": "code",
   "execution_count": 19,
   "metadata": {},
   "outputs": [],
   "source": [
    "import os\n",
    "from datetime import datetime, timedelta\n",
    "\n",
    "import pandas as pd\n",
    "from tvDatafeed import TvDatafeed, Interval"
   ]
  },
  {
   "cell_type": "code",
   "execution_count": 20,
   "metadata": {},
   "outputs": [
    {
     "name": "stderr",
     "output_type": "stream",
     "text": [
      "WARNING:tvDatafeed.main:you are using nologin method, data you access may be limited\n"
     ]
    }
   ],
   "source": [
    "tv = TvDatafeed()"
   ]
  },
  {
   "cell_type": "code",
   "execution_count": 21,
   "metadata": {},
   "outputs": [],
   "source": [
    "def pull_TVdata(ticker, exchange, interval, start_date, end_date):\n",
    "    # Convert start_date and end_date from string to datetime objects\n",
    "    start_date = datetime.strptime(start_date, '%Y-%m-%d')\n",
    "    end_date = datetime.strptime(end_date, '%Y-%m-%d')\n",
    "    \n",
    "    # Calculate the total time span in minutes\n",
    "    time_difference = end_date - start_date\n",
    "    \n",
    "    # Determine the interval in minutes (modify based on the interval chosen)\n",
    "    interval_map = {\n",
    "        Interval.in_1_minute: 1,\n",
    "        Interval.in_5_minute: 5,\n",
    "        Interval.in_15_minute: 15,\n",
    "        Interval.in_30_minute: 30,\n",
    "        Interval.in_1_hour: 60,\n",
    "        Interval.in_daily: 60 * 24,\n",
    "        Interval.in_weekly: 60 * 24 * 7,\n",
    "        Interval.in_monthly: 60 * 24 * 30  # Approximate for monthly data\n",
    "    }\n",
    "    \n",
    "    # Get the interval in minutes from the map\n",
    "    interval_in_minutes = interval_map.get(interval, 1)  # Default to 1 minute if not found\n",
    "\n",
    "    # Calculate the number of bars needed\n",
    "    total_minutes = time_difference.total_seconds() / 60  # Convert time difference to minutes\n",
    "    n_bars = int(total_minutes / interval_in_minutes)\n",
    "\n",
    "    # Pull data from TradingView\n",
    "    df = tv.get_hist(symbol=ticker, exchange=exchange, interval=interval, n_bars=n_bars)\n",
    "    \n",
    "    return df\n",
    "\n",
    "    "
   ]
  },
  {
   "cell_type": "code",
   "execution_count": 22,
   "metadata": {},
   "outputs": [],
   "source": [
    "def process_TV_data(df):\n",
    "    \n",
    "    # Print column names with exact characters\n",
    "    print(\"Original column names:\", [f\"'{col}'\" for col in df.columns])\n",
    "    \n",
    "    # Check if 'symbol' exists in the DataFrame\n",
    "    if 'symbol' not in df.columns:\n",
    "        raise KeyError(\"'symbol' column is not found in the DataFrame.\")\n",
    "    \n",
    "    # Extract the exchange and ticker from the symbol\n",
    "    df['Exchange'] = df['symbol'].apply(lambda x: x.split(':')[0])\n",
    "    df['Ticker'] = df['symbol'].apply(lambda x: x.split(':')[1])\n",
    "    \n",
    "    # Assuming underlying is the first two characters of the ticker (e.g., 'AL' in 'ALF2025')\n",
    "    df['Underlying'] = df['Ticker'].apply(lambda x: x[:2])\n",
    "    \n",
    "    # Rename the 'datetime' column to 'Date'\n",
    "    df = df.rename(columns={'datetime': 'Date'})\n",
    "    \n",
    "    # Verify the renaming step\n",
    "    print(\"Column names after renaming:\", df.columns)\n",
    "    \n",
    "    # Reorder the columns to match the required format\n",
    "    final_columns = ['Date', 'Exchange', 'Ticker', 'Underlying', 'symbol', 'open', 'high', 'low', 'close', 'volume']\n",
    "    processed_df = df[final_columns].copy()\n",
    "    \n",
    "    return processed_df\n"
   ]
  },
  {
   "cell_type": "code",
   "execution_count": 23,
   "metadata": {},
   "outputs": [],
   "source": [
    "bp_df =  pull_TVdata(ticker=\"BP\",exchange=\"NYSE\",interval=Interval.in_daily,start_date=\"2000-01-01\",end_date=\"2024-01-01\")"
   ]
  },
  {
   "cell_type": "code",
   "execution_count": 24,
   "metadata": {},
   "outputs": [],
   "source": [
    "shell_df = pull_TVdata(ticker=\"SHEL\",exchange=\"NYSE\",interval=Interval.in_daily,start_date=\"2000-01-01\",end_date=\"2024-01-01\")"
   ]
  },
  {
   "cell_type": "code",
   "execution_count": 25,
   "metadata": {},
   "outputs": [],
   "source": [
    "oxy_df = pull_TVdata(ticker=\"OXY\",exchange=\"NYSE\",interval=Interval.in_daily,start_date=\"2000-01-01\",end_date=\"2024-01-01\")"
   ]
  },
  {
   "cell_type": "code",
   "execution_count": 26,
   "metadata": {},
   "outputs": [],
   "source": [
    "cvx_df = pull_TVdata(ticker=\"CVX\",exchange=\"NYSE\",interval=Interval.in_daily,start_date=\"2000-01-01\",end_date=\"2024-01-01\")"
   ]
  },
  {
   "cell_type": "code",
   "execution_count": 27,
   "metadata": {},
   "outputs": [],
   "source": [
    "xom_df = pull_TVdata(ticker=\"XOM\",exchange=\"NYSE\",interval=Interval.in_daily,start_date=\"2000-01-01\",end_date=\"2024-01-01\")"
   ]
  },
  {
   "cell_type": "code",
   "execution_count": 28,
   "metadata": {},
   "outputs": [],
   "source": [
    "eqnr_df = pull_TVdata(ticker=\"EQNR\",exchange=\"NYSE\",interval=Interval.in_daily,start_date=\"2000-01-01\",end_date=\"2024-01-01\")"
   ]
  },
  {
   "cell_type": "code",
   "execution_count": 29,
   "metadata": {},
   "outputs": [],
   "source": [
    "cl1_df = pull_TVdata(ticker=\"CL1!\",exchange=\"NYMEX\",interval=Interval.in_daily,start_date=\"2000-01-01\",end_date=\"2024-01-01\")"
   ]
  },
  {
   "cell_type": "code",
   "execution_count": 30,
   "metadata": {},
   "outputs": [],
   "source": [
    "ng1_df = pull_TVdata(ticker=\"NG1!\",exchange=\"NYMEX\",interval=Interval.in_daily,start_date=\"2000-01-01\",end_date=\"2024-01-01\")"
   ]
  },
  {
   "cell_type": "code",
   "execution_count": 31,
   "metadata": {},
   "outputs": [],
   "source": [
    "output_dir = '../data/raw-data'\n",
    "bp_df.to_csv(os.path.join(output_dir,\"BP_price.csv\"), index=True)\n",
    "shell_df.to_csv(os.path.join(output_dir,\"SHEL_price.csv\"), index=True)\n",
    "oxy_df.to_csv(os.path.join(output_dir,\"OXY_price.csv\"), index=True)\n",
    "xom_df.to_csv(os.path.join(output_dir,\"XOM_price.csv\"), index=True)\n",
    "cvx_df.to_csv(os.path.join(output_dir,\"CVX_price.csv\"), index=True)\n",
    "eqnr_df.to_csv(os.path.join(output_dir,\"EQNR_price.csv\"), index=True)\n",
    "cl1_df.to_csv(os.path.join(output_dir,\"CL1_price.csv\"), index=True)\n",
    "ng1_df.to_csv(os.path.join(output_dir,\"NG1_price.csv\"), index=True)"
   ]
  }
 ],
 "metadata": {
  "kernelspec": {
   "display_name": "Python 3",
   "language": "python",
   "name": "python3"
  },
  "language_info": {
   "codemirror_mode": {
    "name": "ipython",
    "version": 3
   },
   "file_extension": ".py",
   "mimetype": "text/x-python",
   "name": "python",
   "nbconvert_exporter": "python",
   "pygments_lexer": "ipython3",
   "version": "3.11.1"
  }
 },
 "nbformat": 4,
 "nbformat_minor": 2
}
